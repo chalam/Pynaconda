{
 "cells": [
  {
   "cell_type": "code",
   "execution_count": 1,
   "metadata": {
    "collapsed": true
   },
   "outputs": [],
   "source": [
    "# https://jeremykun.com/2012/01/01/random-psychedelic-art/"
   ]
  },
  {
   "cell_type": "code",
   "execution_count": 3,
   "metadata": {},
   "outputs": [],
   "source": [
    "from PIL import Image\n",
    "import random, math\n",
    "import os"
   ]
  },
  {
   "cell_type": "code",
   "execution_count": 5,
   "metadata": {},
   "outputs": [],
   "source": [
    "pwd = os.getcwd() + \"\\\\src\\\\graphics\\\\\"\n"
   ]
  },
  {
   "cell_type": "code",
   "execution_count": 6,
   "metadata": {},
   "outputs": [],
   "source": [
    "canvas = Image.new('L', (300, 300))\n",
    "canvas.putpixel((150, 150), 255)\n",
    "canvas.save(pwd + 'test2.png', 'PNG')"
   ]
  },
  {
   "cell_type": "code",
   "execution_count": 7,
   "metadata": {},
   "outputs": [],
   "source": [
    "random.seed()"
   ]
  },
  {
   "cell_type": "code",
   "execution_count": 8,
   "metadata": {},
   "outputs": [],
   "source": [
    "class X:\n",
    "   def eval(self, x, y):\n",
    "      return x\n",
    "   \n",
    "   def __str__(self):\n",
    "      return \"x\"\n",
    "\n",
    "class Y:\n",
    "   def eval(self, x, y):\n",
    "      return y\n",
    "   \n",
    "   def __str__(self):\n",
    "      return \"y\"\n",
    "\n",
    "class SinPi:\n",
    "   def __init__(self, prob):\n",
    "      self.arg = buildExpr(prob * prob)\n",
    "   \n",
    "   def __str__(self):\n",
    "      return \"sin(pi*\" + str(self.arg) + \")\"\n",
    "\n",
    "   def eval(self, x, y):\n",
    "      return math.sin(math.pi * self.arg.eval(x,y))\n",
    "\n",
    "class CosPi:\n",
    "   def __init__(self, prob):\n",
    "      self.arg = buildExpr(prob * prob)\n",
    "\n",
    "   def __str__(self):\n",
    "      return \"cos(pi*\" + str(self.arg) + \")\"\n",
    "\n",
    "   def eval(self, x, y):\n",
    "      return math.cos(math.pi * self.arg.eval(x,y))\n",
    "\n",
    "class Times:\n",
    "   def __init__(self, prob):\n",
    "      self.lhs = buildExpr(prob * prob)\n",
    "      self.rhs = buildExpr(prob * prob)\n",
    "\n",
    "   def __str__(self):\n",
    "      return str(self.lhs) + \"*\" + str(self.rhs)\n",
    "\n",
    "   def eval(self, x, y):\n",
    "      return self.lhs.eval(x,y) * self.rhs.eval(x,y)\n",
    "\n",
    "def buildExpr(prob = 0.99):\n",
    "   if random.random() < prob:\n",
    "      return random.choice([SinPi, CosPi, Times])(prob)\n",
    "   else:\n",
    "      return random.choice([X, Y])()\n",
    "\n",
    "def plotIntensity(exp, pixelsPerUnit = 150):\n",
    "    canvasWidth = 2 * pixelsPerUnit + 1\n",
    "    canvas = Image.new(\"L\", (canvasWidth, canvasWidth))\n",
    "\n",
    "    for py in range(canvasWidth):\n",
    "        for px in range(canvasWidth):\n",
    "            # Convert pixel location to [-1,1] coordinates\n",
    "            x = float(px - pixelsPerUnit) / pixelsPerUnit \n",
    "            y = -float(py - pixelsPerUnit) / pixelsPerUnit\n",
    "            z = exp.eval(x,y)\n",
    "\n",
    "            # Scale [-1,1] result to [0,255].\n",
    "            intensity = int(z * 127.5 + 127.5)\n",
    "            canvas.putpixel((px,py), intensity)\n",
    "\n",
    "    return canvas\n",
    "\n",
    "def plotColor(redExp, greenExp, blueExp, pixelsPerUnit = 150):\n",
    "    redPlane   = plotIntensity(redExp, pixelsPerUnit)\n",
    "    greenPlane = plotIntensity(greenExp, pixelsPerUnit)\n",
    "    bluePlane  = plotIntensity(blueExp, pixelsPerUnit)\n",
    "    return Image.merge(\"RGB\", (redPlane, greenPlane, bluePlane))"
   ]
  },
  {
   "cell_type": "code",
   "execution_count": 12,
   "metadata": {},
   "outputs": [],
   "source": [
    "def makeImage(numPics = 20):\n",
    "   with open(\"eqns.txt\", 'w') as eqnsFile:\n",
    "      for i in range(numPics):\n",
    "         redExp = buildExpr()\n",
    "         greenExp = buildExpr()\n",
    "         blueExp = buildExpr()\n",
    "\n",
    "         eqnsFile.write(\"img\" + str(i) + \":\\n\")\n",
    "         eqnsFile.write(\"red = \" + str(redExp) + \"\\n\")\n",
    "         eqnsFile.write(\"green = \" + str(greenExp) + \"\\n\")\n",
    "         eqnsFile.write(\"blue = \" + str(blueExp) + \"\\n\\n\")\n",
    "\n",
    "         image = plotColor(redExp, greenExp, blueExp)\n",
    "         file_name = pwd + \"img\" + str(i) + \".png\"\n",
    "         # print('writing to ', file_name)\n",
    "         image.save(file_name, \"PNG\")\n"
   ]
  },
  {
   "cell_type": "code",
   "execution_count": 13,
   "metadata": {},
   "outputs": [],
   "source": [
    "makeImage(10)"
   ]
  },
  {
   "cell_type": "code",
   "execution_count": null,
   "metadata": {},
   "outputs": [],
   "source": []
  }
 ],
 "metadata": {
  "kernelspec": {
   "display_name": "Python 2",
   "language": "python",
   "name": "python2"
  },
  "language_info": {
   "codemirror_mode": {
    "name": "ipython",
    "version": 2
   },
   "file_extension": ".py",
   "mimetype": "text/x-python",
   "name": "python",
   "nbconvert_exporter": "python",
   "pygments_lexer": "ipython2",
   "version": "2.7.6"
  }
 },
 "nbformat": 4,
 "nbformat_minor": 0
}
